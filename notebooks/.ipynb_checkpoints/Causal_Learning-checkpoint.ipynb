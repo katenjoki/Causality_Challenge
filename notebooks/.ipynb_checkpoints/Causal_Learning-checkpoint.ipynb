{
 "cells": [
  {
   "cell_type": "code",
   "execution_count": 1,
   "id": "9b92680e",
   "metadata": {},
   "outputs": [],
   "source": [
    "import dowhy\n",
    "from causalgraphicalmodels import CausalGraphicalModel\n",
    "from sklearn.model_selection import train_test_split\n",
    "import pandas as pd\n",
    "import sys\n",
    "sys.path.append(\"../scripts/\")\n",
    "from plot import plot_distribution\n",
    "import warnings\n",
    "warnings.filterwarnings('ignore')\n",
    "from dowhy import CausalModel\n",
    "from IPython.display import Image, display"
   ]
  },
  {
   "cell_type": "code",
   "execution_count": 2,
   "id": "6ab6dfa8",
   "metadata": {},
   "outputs": [
    {
     "data": {
      "text/html": [
       "<div>\n",
       "<style scoped>\n",
       "    .dataframe tbody tr th:only-of-type {\n",
       "        vertical-align: middle;\n",
       "    }\n",
       "\n",
       "    .dataframe tbody tr th {\n",
       "        vertical-align: top;\n",
       "    }\n",
       "\n",
       "    .dataframe thead th {\n",
       "        text-align: right;\n",
       "    }\n",
       "</style>\n",
       "<table border=\"1\" class=\"dataframe\">\n",
       "  <thead>\n",
       "    <tr style=\"text-align: right;\">\n",
       "      <th></th>\n",
       "      <th>diagnosis</th>\n",
       "      <th>radius_mean</th>\n",
       "      <th>texture_mean</th>\n",
       "      <th>perimeter_mean</th>\n",
       "      <th>area_mean</th>\n",
       "      <th>smoothness_mean</th>\n",
       "      <th>compactness_mean</th>\n",
       "      <th>concavity_mean</th>\n",
       "      <th>concave points_mean</th>\n",
       "      <th>symmetry_mean</th>\n",
       "      <th>...</th>\n",
       "      <th>radius_worst</th>\n",
       "      <th>texture_worst</th>\n",
       "      <th>perimeter_worst</th>\n",
       "      <th>area_worst</th>\n",
       "      <th>smoothness_worst</th>\n",
       "      <th>compactness_worst</th>\n",
       "      <th>concavity_worst</th>\n",
       "      <th>concave points_worst</th>\n",
       "      <th>symmetry_worst</th>\n",
       "      <th>fractal_dimension_worst</th>\n",
       "    </tr>\n",
       "  </thead>\n",
       "  <tbody>\n",
       "    <tr>\n",
       "      <th>0</th>\n",
       "      <td>0</td>\n",
       "      <td>17.99</td>\n",
       "      <td>10.38</td>\n",
       "      <td>122.80</td>\n",
       "      <td>1001.0</td>\n",
       "      <td>0.11840</td>\n",
       "      <td>0.27760</td>\n",
       "      <td>0.3001</td>\n",
       "      <td>0.14710</td>\n",
       "      <td>0.2419</td>\n",
       "      <td>...</td>\n",
       "      <td>25.38</td>\n",
       "      <td>17.33</td>\n",
       "      <td>184.60</td>\n",
       "      <td>2019.0</td>\n",
       "      <td>0.1622</td>\n",
       "      <td>0.6656</td>\n",
       "      <td>0.7119</td>\n",
       "      <td>0.2654</td>\n",
       "      <td>0.4601</td>\n",
       "      <td>0.11890</td>\n",
       "    </tr>\n",
       "    <tr>\n",
       "      <th>1</th>\n",
       "      <td>0</td>\n",
       "      <td>20.57</td>\n",
       "      <td>17.77</td>\n",
       "      <td>132.90</td>\n",
       "      <td>1326.0</td>\n",
       "      <td>0.08474</td>\n",
       "      <td>0.07864</td>\n",
       "      <td>0.0869</td>\n",
       "      <td>0.07017</td>\n",
       "      <td>0.1812</td>\n",
       "      <td>...</td>\n",
       "      <td>24.99</td>\n",
       "      <td>23.41</td>\n",
       "      <td>158.80</td>\n",
       "      <td>1956.0</td>\n",
       "      <td>0.1238</td>\n",
       "      <td>0.1866</td>\n",
       "      <td>0.2416</td>\n",
       "      <td>0.1860</td>\n",
       "      <td>0.2750</td>\n",
       "      <td>0.08902</td>\n",
       "    </tr>\n",
       "    <tr>\n",
       "      <th>2</th>\n",
       "      <td>0</td>\n",
       "      <td>19.69</td>\n",
       "      <td>21.25</td>\n",
       "      <td>130.00</td>\n",
       "      <td>1203.0</td>\n",
       "      <td>0.10960</td>\n",
       "      <td>0.15990</td>\n",
       "      <td>0.1974</td>\n",
       "      <td>0.12790</td>\n",
       "      <td>0.2069</td>\n",
       "      <td>...</td>\n",
       "      <td>23.57</td>\n",
       "      <td>25.53</td>\n",
       "      <td>152.50</td>\n",
       "      <td>1709.0</td>\n",
       "      <td>0.1444</td>\n",
       "      <td>0.4245</td>\n",
       "      <td>0.4504</td>\n",
       "      <td>0.2430</td>\n",
       "      <td>0.3613</td>\n",
       "      <td>0.08758</td>\n",
       "    </tr>\n",
       "    <tr>\n",
       "      <th>3</th>\n",
       "      <td>0</td>\n",
       "      <td>11.42</td>\n",
       "      <td>20.38</td>\n",
       "      <td>77.58</td>\n",
       "      <td>386.1</td>\n",
       "      <td>0.14250</td>\n",
       "      <td>0.28390</td>\n",
       "      <td>0.2414</td>\n",
       "      <td>0.10520</td>\n",
       "      <td>0.2597</td>\n",
       "      <td>...</td>\n",
       "      <td>14.91</td>\n",
       "      <td>26.50</td>\n",
       "      <td>98.87</td>\n",
       "      <td>567.7</td>\n",
       "      <td>0.2098</td>\n",
       "      <td>0.8663</td>\n",
       "      <td>0.6869</td>\n",
       "      <td>0.2575</td>\n",
       "      <td>0.6638</td>\n",
       "      <td>0.17300</td>\n",
       "    </tr>\n",
       "    <tr>\n",
       "      <th>4</th>\n",
       "      <td>0</td>\n",
       "      <td>20.29</td>\n",
       "      <td>14.34</td>\n",
       "      <td>135.10</td>\n",
       "      <td>1297.0</td>\n",
       "      <td>0.10030</td>\n",
       "      <td>0.13280</td>\n",
       "      <td>0.1980</td>\n",
       "      <td>0.10430</td>\n",
       "      <td>0.1809</td>\n",
       "      <td>...</td>\n",
       "      <td>22.54</td>\n",
       "      <td>16.67</td>\n",
       "      <td>152.20</td>\n",
       "      <td>1575.0</td>\n",
       "      <td>0.1374</td>\n",
       "      <td>0.2050</td>\n",
       "      <td>0.4000</td>\n",
       "      <td>0.1625</td>\n",
       "      <td>0.2364</td>\n",
       "      <td>0.07678</td>\n",
       "    </tr>\n",
       "  </tbody>\n",
       "</table>\n",
       "<p>5 rows × 31 columns</p>\n",
       "</div>"
      ],
      "text/plain": [
       "   diagnosis  radius_mean  texture_mean  perimeter_mean  area_mean  \\\n",
       "0          0        17.99         10.38          122.80     1001.0   \n",
       "1          0        20.57         17.77          132.90     1326.0   \n",
       "2          0        19.69         21.25          130.00     1203.0   \n",
       "3          0        11.42         20.38           77.58      386.1   \n",
       "4          0        20.29         14.34          135.10     1297.0   \n",
       "\n",
       "   smoothness_mean  compactness_mean  concavity_mean  concave points_mean  \\\n",
       "0          0.11840           0.27760          0.3001              0.14710   \n",
       "1          0.08474           0.07864          0.0869              0.07017   \n",
       "2          0.10960           0.15990          0.1974              0.12790   \n",
       "3          0.14250           0.28390          0.2414              0.10520   \n",
       "4          0.10030           0.13280          0.1980              0.10430   \n",
       "\n",
       "   symmetry_mean  ...  radius_worst  texture_worst  perimeter_worst  \\\n",
       "0         0.2419  ...         25.38          17.33           184.60   \n",
       "1         0.1812  ...         24.99          23.41           158.80   \n",
       "2         0.2069  ...         23.57          25.53           152.50   \n",
       "3         0.2597  ...         14.91          26.50            98.87   \n",
       "4         0.1809  ...         22.54          16.67           152.20   \n",
       "\n",
       "   area_worst  smoothness_worst  compactness_worst  concavity_worst  \\\n",
       "0      2019.0            0.1622             0.6656           0.7119   \n",
       "1      1956.0            0.1238             0.1866           0.2416   \n",
       "2      1709.0            0.1444             0.4245           0.4504   \n",
       "3       567.7            0.2098             0.8663           0.6869   \n",
       "4      1575.0            0.1374             0.2050           0.4000   \n",
       "\n",
       "   concave points_worst  symmetry_worst  fractal_dimension_worst  \n",
       "0                0.2654          0.4601                  0.11890  \n",
       "1                0.1860          0.2750                  0.08902  \n",
       "2                0.2430          0.3613                  0.08758  \n",
       "3                0.2575          0.6638                  0.17300  \n",
       "4                0.1625          0.2364                  0.07678  \n",
       "\n",
       "[5 rows x 31 columns]"
      ]
     },
     "execution_count": 2,
     "metadata": {},
     "output_type": "execute_result"
    }
   ],
   "source": [
    "df = pd.read_csv(\"../data/clean_data.csv\")\n",
    "df.head()"
   ]
  },
  {
   "cell_type": "markdown",
   "id": "f59bb0a0",
   "metadata": {},
   "source": [
    "**Sample problem definition: a low radius_mean leads to breast tumors being diagnosed as benign(diagnosis = 0)**\n",
    "\n",
    "* From the definitions of the features a change in radius would affect area, perimeter, compactness and smoothness\n",
    "* A change in Concave points would affect concavity\n",
    "* Given the strong correlation between concave points, concavity with radius, could they possibly be related?\n",
    "* Train with just this features"
   ]
  },
  {
   "cell_type": "markdown",
   "id": "a3a1021f",
   "metadata": {},
   "source": [
    "We can make an assumption that a low radius_mean < 18, and this shall be our treatment"
   ]
  },
  {
   "cell_type": "code",
   "execution_count": 3,
   "id": "c144a832",
   "metadata": {},
   "outputs": [],
   "source": [
    "df['low_radius'] = df['radius_mean'].apply(lambda x: True if x < 18 else False)"
   ]
  },
  {
   "cell_type": "code",
   "execution_count": 4,
   "id": "0447c453",
   "metadata": {},
   "outputs": [],
   "source": [
    "train,test = train_test_split(df,test_size=0.2)"
   ]
  },
  {
   "cell_type": "code",
   "execution_count": 5,
   "id": "be0bcc52",
   "metadata": {},
   "outputs": [
    {
     "data": {
      "text/plain": [
       "['diagnosis',\n",
       " 'radius_mean',\n",
       " 'perimeter_mean',\n",
       " 'area_mean',\n",
       " 'smoothness_mean',\n",
       " 'compactness_mean',\n",
       " 'concavity_mean',\n",
       " 'concave points_mean',\n",
       " 'radius_se',\n",
       " 'perimeter_se',\n",
       " 'area_se',\n",
       " 'smoothness_se',\n",
       " 'compactness_se',\n",
       " 'concavity_se',\n",
       " 'concave points_se',\n",
       " 'radius_worst',\n",
       " 'perimeter_worst',\n",
       " 'area_worst',\n",
       " 'smoothness_worst',\n",
       " 'compactness_worst',\n",
       " 'concavity_worst',\n",
       " 'concave points_worst',\n",
       " 'low_radius']"
      ]
     },
     "execution_count": 5,
     "metadata": {},
     "output_type": "execute_result"
    }
   ],
   "source": [
    "train_features = {'diagnosis','radius','area','perimeter','compactness','smoothness','concave points','concavity'}\n",
    "train_columns = [col for col in df \n",
    "                      if any(feature in col for feature in train_features)]\n",
    "train_columns"
   ]
  },
  {
   "cell_type": "markdown",
   "id": "6c158cae",
   "metadata": {},
   "source": [
    "**Because mean and worst are strongly positively correlated we drop those columns for the first round of training**\n",
    "\n",
    "**We also drop se to train model in small batches**"
   ]
  },
  {
   "cell_type": "code",
   "execution_count": 6,
   "id": "6d9a40e7",
   "metadata": {},
   "outputs": [
    {
     "data": {
      "text/html": [
       "<div>\n",
       "<style scoped>\n",
       "    .dataframe tbody tr th:only-of-type {\n",
       "        vertical-align: middle;\n",
       "    }\n",
       "\n",
       "    .dataframe tbody tr th {\n",
       "        vertical-align: top;\n",
       "    }\n",
       "\n",
       "    .dataframe thead th {\n",
       "        text-align: right;\n",
       "    }\n",
       "</style>\n",
       "<table border=\"1\" class=\"dataframe\">\n",
       "  <thead>\n",
       "    <tr style=\"text-align: right;\">\n",
       "      <th></th>\n",
       "      <th>diagnosis</th>\n",
       "      <th>radius_mean</th>\n",
       "      <th>perimeter_mean</th>\n",
       "      <th>area_mean</th>\n",
       "      <th>smoothness_mean</th>\n",
       "      <th>compactness_mean</th>\n",
       "      <th>concavity_mean</th>\n",
       "      <th>concave_points_mean</th>\n",
       "      <th>low_radius</th>\n",
       "    </tr>\n",
       "  </thead>\n",
       "  <tbody>\n",
       "    <tr>\n",
       "      <th>0</th>\n",
       "      <td>0</td>\n",
       "      <td>17.99</td>\n",
       "      <td>122.80</td>\n",
       "      <td>1001.0</td>\n",
       "      <td>0.11840</td>\n",
       "      <td>0.27760</td>\n",
       "      <td>0.3001</td>\n",
       "      <td>0.14710</td>\n",
       "      <td>True</td>\n",
       "    </tr>\n",
       "    <tr>\n",
       "      <th>1</th>\n",
       "      <td>0</td>\n",
       "      <td>20.57</td>\n",
       "      <td>132.90</td>\n",
       "      <td>1326.0</td>\n",
       "      <td>0.08474</td>\n",
       "      <td>0.07864</td>\n",
       "      <td>0.0869</td>\n",
       "      <td>0.07017</td>\n",
       "      <td>False</td>\n",
       "    </tr>\n",
       "    <tr>\n",
       "      <th>2</th>\n",
       "      <td>0</td>\n",
       "      <td>19.69</td>\n",
       "      <td>130.00</td>\n",
       "      <td>1203.0</td>\n",
       "      <td>0.10960</td>\n",
       "      <td>0.15990</td>\n",
       "      <td>0.1974</td>\n",
       "      <td>0.12790</td>\n",
       "      <td>False</td>\n",
       "    </tr>\n",
       "    <tr>\n",
       "      <th>3</th>\n",
       "      <td>0</td>\n",
       "      <td>11.42</td>\n",
       "      <td>77.58</td>\n",
       "      <td>386.1</td>\n",
       "      <td>0.14250</td>\n",
       "      <td>0.28390</td>\n",
       "      <td>0.2414</td>\n",
       "      <td>0.10520</td>\n",
       "      <td>True</td>\n",
       "    </tr>\n",
       "    <tr>\n",
       "      <th>4</th>\n",
       "      <td>0</td>\n",
       "      <td>20.29</td>\n",
       "      <td>135.10</td>\n",
       "      <td>1297.0</td>\n",
       "      <td>0.10030</td>\n",
       "      <td>0.13280</td>\n",
       "      <td>0.1980</td>\n",
       "      <td>0.10430</td>\n",
       "      <td>False</td>\n",
       "    </tr>\n",
       "  </tbody>\n",
       "</table>\n",
       "</div>"
      ],
      "text/plain": [
       "   diagnosis  radius_mean  perimeter_mean  area_mean  smoothness_mean  \\\n",
       "0          0        17.99          122.80     1001.0          0.11840   \n",
       "1          0        20.57          132.90     1326.0          0.08474   \n",
       "2          0        19.69          130.00     1203.0          0.10960   \n",
       "3          0        11.42           77.58      386.1          0.14250   \n",
       "4          0        20.29          135.10     1297.0          0.10030   \n",
       "\n",
       "   compactness_mean  concavity_mean  concave_points_mean  low_radius  \n",
       "0           0.27760          0.3001              0.14710        True  \n",
       "1           0.07864          0.0869              0.07017       False  \n",
       "2           0.15990          0.1974              0.12790       False  \n",
       "3           0.28390          0.2414              0.10520        True  \n",
       "4           0.13280          0.1980              0.10430       False  "
      ]
     },
     "execution_count": 6,
     "metadata": {},
     "output_type": "execute_result"
    }
   ],
   "source": [
    "training = df[train_columns]\n",
    "training = training.drop(training.filter(regex = '_worst').columns,axis=1)\n",
    "training = training.drop(training.filter(regex = '_se').columns,axis=1)\n",
    "training.rename(columns={'concave points_mean':'concave_points_mean'},inplace=True)\n",
    "training.head()"
   ]
  },
  {
   "cell_type": "code",
   "execution_count": 7,
   "id": "8448a8ab",
   "metadata": {},
   "outputs": [],
   "source": [
    "causal_graph = \"\"\"\n",
    "digraph{\n",
    "radius_mean;\n",
    "perimeter_mean;\n",
    "area_mean;\n",
    "smoothness_mean;\n",
    "compactness_mean;\n",
    "concavity_mean;\n",
    "concave_points_mean;\n",
    "U[label=\"Unobserved Confounders\"];\n",
    "radius_mean -> perimeter_mean;radius_mean -> area_mean;radius_mean -> smoothness_mean;radius_mean->low_radius;area_mean->compactness_mean;\n",
    "perimeter_mean->compactness_mean;concave_points_mean->concavity_mean;\n",
    "U->compactness_mean;U->smoothness_mean;U->concavity_mean;U->low_radius;U->diagnosis;\n",
    "compactness_mean->diagnosis;smoothness_mean->diagnosis;concavity_mean->diagnosis;low_radius->diagnosis;\n",
    "}\n",
    "\"\"\""
   ]
  },
  {
   "cell_type": "code",
   "execution_count": 8,
   "id": "32af6a26",
   "metadata": {},
   "outputs": [],
   "source": [
    "model= CausalModel(\n",
    "        data = training,\n",
    "        graph=causal_graph.replace(\"\\n\", \" \"),\n",
    "        treatment='low_radius',\n",
    "        outcome='diagnosis')"
   ]
  },
  {
   "cell_type": "code",
   "execution_count": 9,
   "id": "8d322657",
   "metadata": {},
   "outputs": [
    {
     "data": {
      "image/png": "[encoded data removed]",
      "text/plain": [
       "<Figure size 432x288 with 1 Axes>"
      ]
     },
     "metadata": {},
     "output_type": "display_data"
    }
   ],
   "source": [
    "model.view_model()\n",
    "#display(Image(filename=\"causal_model.png\"))"
   ]
  },
  {
   "cell_type": "code",
   "execution_count": 10,
   "id": "43cd573f",
   "metadata": {},
   "outputs": [
    {
     "data": {
      "image/svg+xml": [
       "<?xml version=\"1.0\" encoding=\"UTF-8\" standalone=\"no\"?>\r\n",
       "<!DOCTYPE svg PUBLIC \"-//W3C//DTD SVG 1.1//EN\"\r\n",
       " \"http://www.w3.org/Graphics/SVG/1.1/DTD/svg11.dtd\">\r\n",
       "<!-- Generated by graphviz version 2.38.0 (20140413.2041)\r\n",
       " -->\r\n",
       "<!-- Title: %3 Pages: 1 -->\r\n",
       "<svg width=\"721pt\" height=\"260pt\"\r\n",
       " viewBox=\"0.00 0.00 720.54 260.00\" xmlns=\"http://www.w3.org/2000/svg\" xmlns:xlink=\"http://www.w3.org/1999/xlink\">\r\n",
       "<g id=\"graph0\" class=\"graph\" transform=\"scale(1 1) rotate(0) translate(4 256)\">\r\n",
       "<title>%3</title>\r\n",
       "<polygon fill=\"white\" stroke=\"none\" points=\"-4,4 -4,-256 716.536,-256 716.536,4 -4,4\"/>\r\n",
       "<!-- concavity_mean -->\r\n",
       "<g id=\"node1\" class=\"node\"><title>concavity_mean</title>\r\n",
       "<ellipse fill=\"none\" stroke=\"black\" cx=\"92.2918\" cy=\"-90\" rx=\"69.5877\" ry=\"18\"/>\r\n",
       "<text text-anchor=\"middle\" x=\"92.2918\" y=\"-86.3\" font-family=\"Times New Roman,serif\" font-size=\"14.00\">concavity_mean</text>\r\n",
       "</g>\r\n",
       "<!-- diagnosis -->\r\n",
       "<g id=\"node7\" class=\"node\"><title>diagnosis</title>\r\n",
       "<ellipse fill=\"none\" stroke=\"black\" cx=\"364.292\" cy=\"-18\" rx=\"44.6926\" ry=\"18\"/>\r\n",
       "<text text-anchor=\"middle\" x=\"364.292\" y=\"-14.3\" font-family=\"Times New Roman,serif\" font-size=\"14.00\">diagnosis</text>\r\n",
       "</g>\r\n",
       "<!-- concavity_mean&#45;&gt;diagnosis -->\r\n",
       "<g id=\"edge9\" class=\"edge\"><title>concavity_mean&#45;&gt;diagnosis</title>\r\n",
       "<path fill=\"none\" stroke=\"black\" d=\"M139.671,-76.8069C189.652,-63.9441 267.918,-43.8022 317.627,-31.0093\"/>\r\n",
       "<polygon fill=\"black\" stroke=\"black\" points=\"318.664,-34.3566 327.476,-28.4746 316.919,-27.5775 318.664,-34.3566\"/>\r\n",
       "</g>\r\n",
       "<!-- concave_points_mean -->\r\n",
       "<g id=\"node2\" class=\"node\"><title>concave_points_mean</title>\r\n",
       "<ellipse fill=\"none\" stroke=\"black\" cx=\"92.2918\" cy=\"-162\" rx=\"92.0841\" ry=\"18\"/>\r\n",
       "<text text-anchor=\"middle\" x=\"92.2918\" y=\"-158.3\" font-family=\"Times New Roman,serif\" font-size=\"14.00\">concave_points_mean</text>\r\n",
       "</g>\r\n",
       "<!-- concave_points_mean&#45;&gt;concavity_mean -->\r\n",
       "<g id=\"edge10\" class=\"edge\"><title>concave_points_mean&#45;&gt;concavity_mean</title>\r\n",
       "<path fill=\"none\" stroke=\"black\" d=\"M92.2918,-143.697C92.2918,-135.983 92.2918,-126.712 92.2918,-118.112\"/>\r\n",
       "<polygon fill=\"black\" stroke=\"black\" points=\"95.7919,-118.104 92.2918,-108.104 88.7919,-118.104 95.7919,-118.104\"/>\r\n",
       "</g>\r\n",
       "<!-- radius_mean -->\r\n",
       "<g id=\"node3\" class=\"node\"><title>radius_mean</title>\r\n",
       "<ellipse fill=\"none\" stroke=\"black\" cx=\"469.292\" cy=\"-234\" rx=\"56.59\" ry=\"18\"/>\r\n",
       "<text text-anchor=\"middle\" x=\"469.292\" y=\"-230.3\" font-family=\"Times New Roman,serif\" font-size=\"14.00\">radius_mean</text>\r\n",
       "</g>\r\n",
       "<!-- area_mean -->\r\n",
       "<g id=\"node4\" class=\"node\"><title>area_mean</title>\r\n",
       "<ellipse fill=\"none\" stroke=\"black\" cx=\"508.292\" cy=\"-162\" rx=\"49.2915\" ry=\"18\"/>\r\n",
       "<text text-anchor=\"middle\" x=\"508.292\" y=\"-158.3\" font-family=\"Times New Roman,serif\" font-size=\"14.00\">area_mean</text>\r\n",
       "</g>\r\n",
       "<!-- radius_mean&#45;&gt;area_mean -->\r\n",
       "<g id=\"edge2\" class=\"edge\"><title>radius_mean&#45;&gt;area_mean</title>\r\n",
       "<path fill=\"none\" stroke=\"black\" d=\"M478.733,-216.055C483.331,-207.801 488.958,-197.701 494.064,-188.538\"/>\r\n",
       "<polygon fill=\"black\" stroke=\"black\" points=\"497.128,-190.228 498.938,-179.789 491.013,-186.821 497.128,-190.228\"/>\r\n",
       "</g>\r\n",
       "<!-- perimeter_mean -->\r\n",
       "<g id=\"node8\" class=\"node\"><title>perimeter_mean</title>\r\n",
       "<ellipse fill=\"none\" stroke=\"black\" cx=\"644.292\" cy=\"-162\" rx=\"68.4888\" ry=\"18\"/>\r\n",
       "<text text-anchor=\"middle\" x=\"644.292\" y=\"-158.3\" font-family=\"Times New Roman,serif\" font-size=\"14.00\">perimeter_mean</text>\r\n",
       "</g>\r\n",
       "<!-- radius_mean&#45;&gt;perimeter_mean -->\r\n",
       "<g id=\"edge1\" class=\"edge\"><title>radius_mean&#45;&gt;perimeter_mean</title>\r\n",
       "<path fill=\"none\" stroke=\"black\" d=\"M503.034,-219.503C530.279,-208.605 568.878,-193.166 598.843,-181.179\"/>\r\n",
       "<polygon fill=\"black\" stroke=\"black\" points=\"600.259,-184.383 608.244,-177.419 597.659,-177.883 600.259,-184.383\"/>\r\n",
       "</g>\r\n",
       "<!-- smoothness_mean -->\r\n",
       "<g id=\"node9\" class=\"node\"><title>smoothness_mean</title>\r\n",
       "<ellipse fill=\"none\" stroke=\"black\" cx=\"258.292\" cy=\"-90\" rx=\"77.9862\" ry=\"18\"/>\r\n",
       "<text text-anchor=\"middle\" x=\"258.292\" y=\"-86.3\" font-family=\"Times New Roman,serif\" font-size=\"14.00\">smoothness_mean</text>\r\n",
       "</g>\r\n",
       "<!-- radius_mean&#45;&gt;smoothness_mean -->\r\n",
       "<g id=\"edge3\" class=\"edge\"><title>radius_mean&#45;&gt;smoothness_mean</title>\r\n",
       "<path fill=\"none\" stroke=\"black\" d=\"M424.632,-222.92C395.269,-214.754 357.095,-201.086 328.292,-180 305.15,-163.058 285.651,-136.521 273.158,-116.827\"/>\r\n",
       "<polygon fill=\"black\" stroke=\"black\" points=\"275.981,-114.737 267.763,-108.051 270.018,-118.403 275.981,-114.737\"/>\r\n",
       "</g>\r\n",
       "<!-- low_radius -->\r\n",
       "<g id=\"node10\" class=\"node\"><title>low_radius</title>\r\n",
       "<ellipse fill=\"none\" stroke=\"black\" cx=\"443.292\" cy=\"-90\" rx=\"50.8918\" ry=\"18\"/>\r\n",
       "<text text-anchor=\"middle\" x=\"443.292\" y=\"-86.3\" font-family=\"Times New Roman,serif\" font-size=\"14.00\">low_radius</text>\r\n",
       "</g>\r\n",
       "<!-- radius_mean&#45;&gt;low_radius -->\r\n",
       "<g id=\"edge4\" class=\"edge\"><title>radius_mean&#45;&gt;low_radius</title>\r\n",
       "<path fill=\"none\" stroke=\"black\" d=\"M461.952,-216.15C457.816,-205.898 452.958,-192.424 450.292,-180 445.93,-159.67 444.217,-136.206 443.575,-118.476\"/>\r\n",
       "<polygon fill=\"black\" stroke=\"black\" points=\"447.068,-118.159 443.3,-108.257 440.07,-118.347 447.068,-118.159\"/>\r\n",
       "</g>\r\n",
       "<!-- compactness_mean -->\r\n",
       "<g id=\"node6\" class=\"node\"><title>compactness_mean</title>\r\n",
       "<ellipse fill=\"none\" stroke=\"black\" cx=\"594.292\" cy=\"-90\" rx=\"82.5854\" ry=\"18\"/>\r\n",
       "<text text-anchor=\"middle\" x=\"594.292\" y=\"-86.3\" font-family=\"Times New Roman,serif\" font-size=\"14.00\">compactness_mean</text>\r\n",
       "</g>\r\n",
       "<!-- area_mean&#45;&gt;compactness_mean -->\r\n",
       "<g id=\"edge6\" class=\"edge\"><title>area_mean&#45;&gt;compactness_mean</title>\r\n",
       "<path fill=\"none\" stroke=\"black\" d=\"M527.807,-145.116C539.108,-135.917 553.532,-124.177 566.054,-113.984\"/>\r\n",
       "<polygon fill=\"black\" stroke=\"black\" points=\"568.411,-116.579 573.957,-107.552 563.992,-111.15 568.411,-116.579\"/>\r\n",
       "</g>\r\n",
       "<!-- U -->\r\n",
       "<g id=\"node5\" class=\"node\"><title>U</title>\r\n",
       "<ellipse fill=\"none\" stroke=\"black\" cx=\"364.292\" cy=\"-162\" rx=\"27\" ry=\"18\"/>\r\n",
       "<text text-anchor=\"middle\" x=\"364.292\" y=\"-158.3\" font-family=\"Times New Roman,serif\" font-size=\"14.00\">U</text>\r\n",
       "</g>\r\n",
       "<!-- U&#45;&gt;concavity_mean -->\r\n",
       "<g id=\"edge14\" class=\"edge\"><title>U&#45;&gt;concavity_mean</title>\r\n",
       "<path fill=\"none\" stroke=\"black\" d=\"M339.19,-154.54C296.361,-143.518 208.128,-120.811 149.578,-105.743\"/>\r\n",
       "<polygon fill=\"black\" stroke=\"black\" points=\"150.286,-102.311 139.729,-103.208 148.541,-109.09 150.286,-102.311\"/>\r\n",
       "</g>\r\n",
       "<!-- U&#45;&gt;compactness_mean -->\r\n",
       "<g id=\"edge12\" class=\"edge\"><title>U&#45;&gt;compactness_mean</title>\r\n",
       "<path fill=\"none\" stroke=\"black\" d=\"M388.471,-153.641C423.863,-142.87 490.763,-122.509 538.69,-107.922\"/>\r\n",
       "<polygon fill=\"black\" stroke=\"black\" points=\"539.762,-111.255 548.309,-104.995 537.723,-104.558 539.762,-111.255\"/>\r\n",
       "</g>\r\n",
       "<!-- U&#45;&gt;diagnosis -->\r\n",
       "<g id=\"edge16\" class=\"edge\"><title>U&#45;&gt;diagnosis</title>\r\n",
       "<path fill=\"none\" stroke=\"black\" d=\"M364.292,-143.871C364.292,-119.67 364.292,-75.2108 364.292,-46.3932\"/>\r\n",
       "<polygon fill=\"black\" stroke=\"black\" points=\"367.792,-46.1892 364.292,-36.1893 360.792,-46.1893 367.792,-46.1892\"/>\r\n",
       "</g>\r\n",
       "<!-- U&#45;&gt;smoothness_mean -->\r\n",
       "<g id=\"edge13\" class=\"edge\"><title>U&#45;&gt;smoothness_mean</title>\r\n",
       "<path fill=\"none\" stroke=\"black\" d=\"M345.828,-148.807C330.842,-138.91 309.33,-124.704 291.382,-112.852\"/>\r\n",
       "<polygon fill=\"black\" stroke=\"black\" points=\"293.175,-109.842 282.902,-107.252 289.318,-115.683 293.175,-109.842\"/>\r\n",
       "</g>\r\n",
       "<!-- U&#45;&gt;low_radius -->\r\n",
       "<g id=\"edge15\" class=\"edge\"><title>U&#45;&gt;low_radius</title>\r\n",
       "<path fill=\"none\" stroke=\"black\" d=\"M379.9,-147.17C390.597,-137.692 405.039,-124.895 417.436,-113.91\"/>\r\n",
       "<polygon fill=\"black\" stroke=\"black\" points=\"420.065,-116.257 425.228,-107.006 415.422,-111.018 420.065,-116.257\"/>\r\n",
       "</g>\r\n",
       "<!-- compactness_mean&#45;&gt;diagnosis -->\r\n",
       "<g id=\"edge8\" class=\"edge\"><title>compactness_mean&#45;&gt;diagnosis</title>\r\n",
       "<path fill=\"none\" stroke=\"black\" d=\"M548.301,-75.0027C507.694,-62.6443 448.873,-44.742 408.737,-32.5269\"/>\r\n",
       "<polygon fill=\"black\" stroke=\"black\" points=\"409.544,-29.1141 398.959,-29.5508 407.506,-35.8108 409.544,-29.1141\"/>\r\n",
       "</g>\r\n",
       "<!-- perimeter_mean&#45;&gt;compactness_mean -->\r\n",
       "<g id=\"edge5\" class=\"edge\"><title>perimeter_mean&#45;&gt;compactness_mean</title>\r\n",
       "<path fill=\"none\" stroke=\"black\" d=\"M632.188,-144.055C626.318,-135.837 619.143,-125.791 612.62,-116.66\"/>\r\n",
       "<polygon fill=\"black\" stroke=\"black\" points=\"615.292,-114.378 606.631,-108.275 609.596,-118.447 615.292,-114.378\"/>\r\n",
       "</g>\r\n",
       "<!-- smoothness_mean&#45;&gt;diagnosis -->\r\n",
       "<g id=\"edge7\" class=\"edge\"><title>smoothness_mean&#45;&gt;diagnosis</title>\r\n",
       "<path fill=\"none\" stroke=\"black\" d=\"M282.877,-72.7646C297.945,-62.814 317.363,-49.9905 333.456,-39.363\"/>\r\n",
       "<polygon fill=\"black\" stroke=\"black\" points=\"335.59,-42.1482 342.006,-33.717 331.733,-36.307 335.59,-42.1482\"/>\r\n",
       "</g>\r\n",
       "<!-- low_radius&#45;&gt;diagnosis -->\r\n",
       "<g id=\"edge11\" class=\"edge\"><title>low_radius&#45;&gt;diagnosis</title>\r\n",
       "<path fill=\"none\" stroke=\"black\" d=\"M425.365,-73.1159C414.787,-63.7424 401.23,-51.7302 389.578,-41.4054\"/>\r\n",
       "<polygon fill=\"black\" stroke=\"black\" points=\"391.681,-38.5924 381.875,-34.5801 387.038,-43.8316 391.681,-38.5924\"/>\r\n",
       "</g>\r\n",
       "</g>\r\n",
       "</svg>\r\n"
      ],
      "text/plain": [
       "<graphviz.dot.Digraph at 0x1f77185edc8>"
      ]
     },
     "execution_count": 10,
     "metadata": {},
     "output_type": "execute_result"
    }
   ],
   "source": [
    "#area and perimeter functions of radius\n",
    "from causalgraphicalmodels import CausalGraphicalModel\n",
    "causal = CausalGraphicalModel(\n",
    "    nodes=['radius_mean','perimeter_mean','area_mean','smoothness_mean','compactness_mean','concavity_mean',\n",
    "           'concave_points_mean','diagnosis','low_radius','U'],\n",
    "    edges=[\n",
    "        (\"radius_mean\", \"perimeter_mean\"), \n",
    "        (\"radius_mean\", \"area_mean\"),\n",
    "        (\"radius_mean\",\"smoothness_mean\"),\n",
    "        (\"radius_mean\",\"low_radius\"),\n",
    "        (\"area_mean\",\"compactness_mean\"),\n",
    "        (\"perimeter_mean\",\"compactness_mean\"),\n",
    "        (\"concave_points_mean\",\"concavity_mean\"),\n",
    "        (\"U\",\"compactness_mean\"),\n",
    "        (\"U\",\"smoothness_mean\"),\n",
    "        (\"U\",\"concavity_mean\"),\n",
    "        (\"U\",\"low_radius\"),\n",
    "        (\"U\",\"diagnosis\"),\n",
    "        (\"low_radius\",\"diagnosis\"),\n",
    "        (\"smoothness_mean\",\"diagnosis\"),\n",
    "        (\"concavity_mean\",\"diagnosis\"),\n",
    "        (\"compactness_mean\",\"diagnosis\")\n",
    "    ]\n",
    ")\n",
    "# draw return a graphviz `dot` object, which jupyter can render\n",
    "causal.draw()"
   ]
  },
  {
   "cell_type": "markdown",
   "id": "f15a88dd",
   "metadata": {},
   "source": [
    "**Identify the Causal Effect**"
   ]
  },
  {
   "cell_type": "code",
   "execution_count": 11,
   "id": "61565f68",
   "metadata": {},
   "outputs": [
    {
     "name": "stdout",
     "output_type": "stream",
     "text": [
      "WARN: Do you want to continue by ignoring any unobserved confounders? (use proceed_when_unidentifiable=True to disable this prompt) [y/n] y\n",
      "Estimand type: nonparametric-ate\n",
      "\n",
      "### Estimand : 1\n",
      "Estimand name: backdoor\n",
      "Estimand expression:\n",
      "      d                                                                       \n",
      "─────────────(Expectation(diagnosis|concavity_mean,concave_points_mean,radius_\n",
      "d[low_radius]                                                                 \n",
      "\n",
      "                                                                \n",
      "mean,area_mean,compactness_mean,perimeter_mean,smoothness_mean))\n",
      "                                                                \n",
      "Estimand assumption 1, Unconfoundedness: If U→{low_radius} and U→diagnosis then P(diagnosis|low_radius,concavity_mean,concave_points_mean,radius_mean,area_mean,compactness_mean,perimeter_mean,smoothness_mean,U) = P(diagnosis|low_radius,concavity_mean,concave_points_mean,radius_mean,area_mean,compactness_mean,perimeter_mean,smoothness_mean)\n",
      "\n",
      "### Estimand : 2\n",
      "Estimand name: iv\n",
      "No such variable found!\n",
      "\n",
      "### Estimand : 3\n",
      "Estimand name: frontdoor\n",
      "No such variable found!\n",
      "\n"
     ]
    }
   ],
   "source": [
    "estimands = model.identify_effect()\n",
    "print(estimands)"
   ]
  },
  {
   "cell_type": "markdown",
   "id": "52bef3b7",
   "metadata": {},
   "source": [
    "**Estimate the Causal Effect based on the statistical method**"
   ]
  },
  {
   "cell_type": "code",
   "execution_count": 12,
   "id": "4505bc45",
   "metadata": {},
   "outputs": [
    {
     "name": "stdout",
     "output_type": "stream",
     "text": [
      "*** Causal Estimate ***\n",
      "\n",
      "## Identified estimand\n",
      "Estimand type: nonparametric-ate\n",
      "\n",
      "### Estimand : 1\n",
      "Estimand name: backdoor\n",
      "Estimand expression:\n",
      "      d                                                                       \n",
      "─────────────(Expectation(diagnosis|concavity_mean,concave_points_mean,radius_\n",
      "d[low_radius]                                                                 \n",
      "\n",
      "                                                                \n",
      "mean,area_mean,compactness_mean,perimeter_mean,smoothness_mean))\n",
      "                                                                \n",
      "Estimand assumption 1, Unconfoundedness: If U→{low_radius} and U→diagnosis then P(diagnosis|low_radius,concavity_mean,concave_points_mean,radius_mean,area_mean,compactness_mean,perimeter_mean,smoothness_mean,U) = P(diagnosis|low_radius,concavity_mean,concave_points_mean,radius_mean,area_mean,compactness_mean,perimeter_mean,smoothness_mean)\n",
      "\n",
      "## Realized estimand\n",
      "b: diagnosis~low_radius+concavity_mean+concave_points_mean+radius_mean+area_mean+compactness_mean+perimeter_mean+smoothness_mean\n",
      "Target units: ate\n",
      "\n",
      "## Estimate\n",
      "Mean value: 0.660768317680166\n",
      "\n"
     ]
    }
   ],
   "source": [
    "#Causal Effect Estimation\n",
    "#Method based on estimating the treatment assignment\n",
    "estimate = model.estimate_effect(estimands,method_name = \"backdoor.propensity_score_weighting\")\n",
    "print(estimate)"
   ]
  },
  {
   "cell_type": "markdown",
   "id": "3935bba9",
   "metadata": {},
   "source": [
    "**From the result above, we can say that the probability of a breast tumor being diagnosed as benign increases by 66%, when the radius mean is less than 18**"
   ]
  },
  {
   "cell_type": "code",
   "execution_count": 13,
   "id": "caab75cc",
   "metadata": {},
   "outputs": [
    {
     "name": "stdout",
     "output_type": "stream",
     "text": [
      "*** Causal Estimate ***\n",
      "\n",
      "## Identified estimand\n",
      "Estimand type: nonparametric-ate\n",
      "\n",
      "### Estimand : 1\n",
      "Estimand name: backdoor\n",
      "Estimand expression:\n",
      "      d                                                                       \n",
      "─────────────(Expectation(diagnosis|concavity_mean,concave_points_mean,radius_\n",
      "d[low_radius]                                                                 \n",
      "\n",
      "                                                                \n",
      "mean,area_mean,compactness_mean,perimeter_mean,smoothness_mean))\n",
      "                                                                \n",
      "Estimand assumption 1, Unconfoundedness: If U→{low_radius} and U→diagnosis then P(diagnosis|low_radius,concavity_mean,concave_points_mean,radius_mean,area_mean,compactness_mean,perimeter_mean,smoothness_mean,U) = P(diagnosis|low_radius,concavity_mean,concave_points_mean,radius_mean,area_mean,compactness_mean,perimeter_mean,smoothness_mean)\n",
      "\n",
      "## Realized estimand\n",
      "b: diagnosis~Sigmoid(low_radius+concavity_mean+concave_points_mean+radius_mean+area_mean+compactness_mean+perimeter_mean+smoothness_mean+low_radius*perimeter_mean+low_radius*smoothness_mean+low_radius*concave_points_mean+low_radius*concavity_mean+low_radius*area_mean+low_radius*compactness_mean)\n",
      "Target units: ate\n",
      "\n",
      "## Estimate\n",
      "Mean value: 0.6275250952448366\n",
      "\n"
     ]
    }
   ],
   "source": [
    "#Logistic regression estimate\n",
    "import statsmodels.api as sm\n",
    "causal_estimate = model.estimate_effect(estimands,\n",
    "                                        method_name=\"backdoor.generalized_linear_model\",\n",
    "                                       confidence_intervals=False,\n",
    "                                       test_significance=False,\n",
    "                                        method_params = {\n",
    "                                            'num_null_simulations':10,\n",
    "                                            'num_simulations':10,\n",
    "                                            'num_quantiles_to_discretize_cont_cols':10,\n",
    "                                            'fit_method': \"statsmodels\",\n",
    "                                            'glm_family': sm.families.Binomial(), # logistic regression\n",
    "                                            'need_conditional_estimates':False\n",
    "                                        },\n",
    "                                       )\n",
    "print(causal_estimate)"
   ]
  },
  {
   "cell_type": "markdown",
   "id": "56a9e0cd",
   "metadata": {},
   "source": [
    "**From the result above, we can say that the probability of a breast tumor being diagnosed as benign increases by 62%, when the radius mean is less than 18**"
   ]
  },
  {
   "cell_type": "markdown",
   "id": "ccc9af84",
   "metadata": {},
   "source": [
    "<h3>Testing our assumption validity</h3>"
   ]
  },
  {
   "cell_type": "markdown",
   "id": "db52324c",
   "metadata": {},
   "source": [
    "**Random Common Cause** \n",
    "* adds an independent random variable as a common cause to the train data\n",
    "* if the assumption was correct, the estimation should not change."
   ]
  },
  {
   "cell_type": "code",
   "execution_count": 14,
   "id": "1e12d1f7",
   "metadata": {},
   "outputs": [
    {
     "name": "stdout",
     "output_type": "stream",
     "text": [
      "Refute: Add a Random Common Cause\n",
      "Estimated effect:0.660768317680166\n",
      "New effect:0.6609974136967183\n",
      "\n"
     ]
    }
   ],
   "source": [
    "refute_train = model.refute_estimate(estimands,estimate, \"random_common_cause\")\n",
    "print(refute_train)"
   ]
  },
  {
   "cell_type": "markdown",
   "id": "8b16b53f",
   "metadata": {},
   "source": [
    "Effect didn't change meaning our assumption is correct"
   ]
  },
  {
   "cell_type": "markdown",
   "id": "049a5906",
   "metadata": {},
   "source": [
    "**Data Subset Refuter**\n",
    "* replaces the given dataset with a randomly selected subset\n",
    "* if the assumption was correct, the estimation should not change that much."
   ]
  },
  {
   "cell_type": "code",
   "execution_count": 15,
   "id": "47393cac",
   "metadata": {},
   "outputs": [
    {
     "name": "stdout",
     "output_type": "stream",
     "text": [
      "Refute: Use a subset of data\n",
      "Estimated effect:0.660768317680166\n",
      "New effect:0.6597683185720814\n",
      "p value:0.43000000000000005\n",
      "\n"
     ]
    }
   ],
   "source": [
    "refute_train = model.refute_estimate(estimands,estimate,\"data_subset_refuter\")\n",
    "print(refute_train)"
   ]
  },
  {
   "cell_type": "markdown",
   "id": "13efc6b3",
   "metadata": {},
   "source": [
    "The change is by 0.0002 which is quite small, hence our assumptions may be correct"
   ]
  },
  {
   "cell_type": "markdown",
   "id": "22610c0e",
   "metadata": {},
   "source": [
    "**Placebo Treatment**\n",
    "* replaces the true treatment variable with an independent random variable\n",
    "* if the assumption was correct, the estimate should go close to zero."
   ]
  },
  {
   "cell_type": "code",
   "execution_count": 16,
   "id": "dab51f59",
   "metadata": {},
   "outputs": [
    {
     "name": "stdout",
     "output_type": "stream",
     "text": [
      "Refute: Use a Placebo Treatment\n",
      "Estimated effect:0.660768317680166\n",
      "New effect:0.001419958276231238\n",
      "p value:0.43\n",
      "\n"
     ]
    }
   ],
   "source": [
    "refute_train = model.refute_estimate(estimands,estimate, \"placebo_treatment_refuter\")\n",
    "print(refute_train)"
   ]
  },
  {
   "cell_type": "markdown",
   "id": "5e67b2db",
   "metadata": {},
   "source": [
    "**Conclusion**\n",
    "* For the \"mean\" features, we can conclude that a low radius mean has a causal effect on the breast cancer diagnosis"
   ]
  }
 ],
 "metadata": {
  "kernelspec": {
   "display_name": "Python 3",
   "language": "python",
   "name": "python3"
  },
  "language_info": {
   "codemirror_mode": {
    "name": "ipython",
    "version": 3
   },
   "file_extension": ".py",
   "mimetype": "text/x-python",
   "name": "python",
   "nbconvert_exporter": "python",
   "pygments_lexer": "ipython3",
   "version": "3.7.4"
  }
 },
 "nbformat": 4,
 "nbformat_minor": 5
}
